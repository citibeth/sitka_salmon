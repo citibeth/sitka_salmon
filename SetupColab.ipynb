{
 "cells": [
  {
   "cell_type": "markdown",
   "id": "957f41a3",
   "metadata": {},
   "source": [
    "# Setting up for Sitka Salmon Project\n",
    "\n",
    "This notebook helps you set up your Google Colab environment to use the Sitka Salmon code and notebooks.\n",
    "\n",
    "## 1. Clone the GitHub Repositories\n",
    "\n",
    "This step copies the code needed for this project that is NOT part of the notebooks.  If that code gets updated, you can run again."
   ]
  },
  {
   "cell_type": "code",
   "execution_count": null,
   "id": "887f0dd9",
   "metadata": {},
   "outputs": [],
   "source": [
    "import os\n",
    "import google.colab\n",
    "google.colab.drive.mount(\"/content/drive\")\n",
    "!cd /content/drive/MyDrive; rm -rf git\n",
    "!cd /content/drive/MyDrive; mkdir -p git; cd git; git clone https://github.com/citibeth/sitka_salmon.git\n",
    "!cd /content/drive/MyDrive; mkdir -p git; cd git; git clone https://github.com/pism/uafgi.git"
   ]
  },
  {
   "cell_type": "markdown",
   "id": "1fa2209d",
   "metadata": {},
   "source": [
    "## 2. Copy the Notebooks\n",
    "\n",
    "This step copies your notebooks to be ready to run by Google Colab.  If the notebooks already exist, this step will overwrite any changes you might have made."
   ]
  },
  {
   "cell_type": "code",
   "execution_count": null,
   "id": "f68ae359",
   "metadata": {},
   "outputs": [],
   "source": [
    "!cp /content/drive/MyDrive/git/sitka_salmon/*.ipynb /content/drive/MyDrive/Colab\\ Notebooks"
   ]
  }
 ],
 "metadata": {
  "kernelspec": {
   "display_name": "Python 3 (ipykernel)",
   "language": "python",
   "name": "python3"
  },
  "language_info": {
   "codemirror_mode": {
    "name": "ipython",
    "version": 3
   },
   "file_extension": ".py",
   "mimetype": "text/x-python",
   "name": "python",
   "nbconvert_exporter": "python",
   "pygments_lexer": "ipython3",
   "version": "3.8.13"
  }
 },
 "nbformat": 4,
 "nbformat_minor": 5
}
