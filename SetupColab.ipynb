{
 "cells": [
  {
   "cell_type": "markdown",
   "id": "86700093",
   "metadata": {},
   "source": [
    "# Setting up for Sitka Salmon Project\n",
    "\n",
    "This notebook helps you set up your Google Colab environment to use the Sitka Salmon code and notebooks.  See here for more documentation: https://docs.google.com/document/d/1Tkyv02KSmc91ZcNqsUUmeuBzp-LjQsJU5lQf-rOel30\n",
    "\n",
    "## 1. Clone the GitHub Repositories\n",
    "\n",
    "This step copies the code needed for this project that is NOT part of the notebooks.  If that code gets updated, you can run again."
   ]
  },
  {
   "cell_type": "code",
   "execution_count": null,
   "id": "4250daa0",
   "metadata": {},
   "outputs": [],
   "source": [
    "import os\n",
    "import google.colab\n",
    "google.colab.drive.mount(\"/content/drive\")\n",
    "!cd /content/drive/MyDrive; rm -rf git\n",
    "!cd /content/drive/MyDrive; mkdir -p git; cd git; git clone https://github.com/citibeth/sitka_salmon.git\n",
    "!cd /content/drive/MyDrive; mkdir -p git; cd git; git clone https://github.com/pism/uafgi.git  -b sitka_salmon"
   ]
  },
  {
   "cell_type": "markdown",
   "id": "5d911471",
   "metadata": {},
   "source": [
    "## 2. Copy the Notebooks\n",
    "\n",
    "This step copies your notebooks to be ready to run by Google Colab.  If the notebooks already exist, this step will overwrite any changes you might have made."
   ]
  },
  {
   "cell_type": "code",
   "execution_count": null,
   "id": "410e7269",
   "metadata": {},
   "outputs": [],
   "source": [
    "!cp -v /content/drive/MyDrive/git/sitka_salmon/*.ipynb /content/drive/MyDrive/Colab\\ Notebooks"
   ]
  },
  {
   "cell_type": "markdown",
   "id": "a3df4219",
   "metadata": {},
   "source": [
    "## 3. Launch the Notebook\n",
    "\n",
    "Now follow these instructions to begin analyzing salmon data:\n",
    "\n",
    "1. Navigate to: https://drive.google.com\n",
    "\n",
    "1. Navigate to `git/sitka_salmon` on your Google Drive.\n",
    "\n",
    "1. Double-click on `AnalyzeSalmon.ipynb`\n",
    "\n"
   ]
  },
  {
   "cell_type": "markdown",
   "id": "574733af",
   "metadata": {},
   "source": [
    "# Code Management Tools\n",
    "\n",
    "Keep this notebook open in case you need to reload / update your git project.\n",
    "\n",
    "### Fetch Updated Code\n",
    "\n",
    "If the code in the GitHub repositorie(s) has changed, run this to get the latest version."
   ]
  },
  {
   "cell_type": "code",
   "execution_count": null,
   "id": "b89ac366",
   "metadata": {},
   "outputs": [],
   "source": [
    "!cd /content/drive/MyDrive/git/uafgi; git pull\n",
    "!cd /content/drive/MyDrive/git/sitka_salmon; git pull"
   ]
  }
 ],
 "metadata": {
  "kernelspec": {
   "display_name": "Python 3 (ipykernel)",
   "language": "python",
   "name": "python3"
  },
  "language_info": {
   "codemirror_mode": {
    "name": "ipython",
    "version": 3
   },
   "file_extension": ".py",
   "mimetype": "text/x-python",
   "name": "python",
   "nbconvert_exporter": "python",
   "pygments_lexer": "ipython3",
   "version": "3.8.13"
  }
 },
 "nbformat": 4,
 "nbformat_minor": 5
}
