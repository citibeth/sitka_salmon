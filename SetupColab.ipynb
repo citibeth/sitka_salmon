{
 "cells": [
  {
   "cell_type": "markdown",
   "id": "1257a237",
   "metadata": {},
   "source": [
    "# Setting up for Sitka Salmon Project\n",
    "\n",
    "This notebook helps you set up your Google Colab environment to use the Sitka Salmon code and notebooks.  See here for more documentation: https://docs.google.com/document/d/1Tkyv02KSmc91ZcNqsUUmeuBzp-LjQsJU5lQf-rOel30\n",
    "\n",
    "## 1. Initialize this Notebook\n",
    "\n",
    "This cell just needs to be run once."
   ]
  },
  {
   "cell_type": "code",
   "execution_count": null,
   "id": "97eafc84",
   "metadata": {},
   "outputs": [],
   "source": [
    "import os\n",
    "import google.colab\n",
    "google.colab.drive.mount(\"/content/drive\")"
   ]
  },
  {
   "cell_type": "markdown",
   "id": "4fd30bd3",
   "metadata": {},
   "source": [
    "## 2. Clone the GitHub Repositories\n",
    "\n",
    "This step copies the code needed for this project that is NOT part of the notebooks.  If you've already run it, you do not need to run again (see step below, \"Fetch Updated Code\")"
   ]
  },
  {
   "cell_type": "code",
   "execution_count": null,
   "id": "1ab890b2",
   "metadata": {},
   "outputs": [],
   "source": [
    "!cd /content/drive/MyDrive; mkdir -p sitka_harness; cd sitka_harness; git clone https://github.com/citibeth/sitka_salmon.git\n",
    "!cd /content/drive/MyDrive; mkdir -p sitka_harness; cd sitka_harness; git clone https://github.com/pism/uafgi.git  -b sitka_salmon"
   ]
  },
  {
   "cell_type": "markdown",
   "id": "4d91f4e2",
   "metadata": {},
   "source": [
    "## 3. Copy the Notebooks\n",
    "\n",
    "This makes your own copies of the notebooks, apart from the GitHub repos, so you can play with them!  If you run this more than once, you will overwrite your notebooks."
   ]
  },
  {
   "cell_type": "code",
   "execution_count": null,
   "id": "5999030e",
   "metadata": {},
   "outputs": [],
   "source": [
    "!cd /content/drive/MyDrive/sitka_harness/sitka_salmon; cp *.ipynb .."
   ]
  },
  {
   "cell_type": "markdown",
   "id": "5856f766",
   "metadata": {},
   "source": [
    "## 4. Launch the Notebook\n",
    "\n",
    "Now follow these instructions to begin analyzing salmon data:\n",
    "\n",
    "1. Navigate to: https://drive.google.com\n",
    "\n",
    "1. Navigate to `git/sitka_salmon` on your Google Drive.\n",
    "\n",
    "1. Double-click on `AnalyzeSalmon.ipynb`\n",
    "\n"
   ]
  },
  {
   "cell_type": "markdown",
   "id": "52c5d690",
   "metadata": {},
   "source": [
    "# Code Management Tools\n",
    "\n",
    "Keep this notebook open in case you need to reload / update your git project.\n",
    "\n",
    "## 5. Fetch Updated Code\n",
    "\n",
    "If the code in the GitHub repositorie(s) has changed, run this to get the latest version."
   ]
  },
  {
   "cell_type": "code",
   "execution_count": null,
   "id": "ae5686b0",
   "metadata": {},
   "outputs": [],
   "source": [
    "!cd /content/drive/MyDrive/sitka_harness/uafgi; git stash; git pull\n",
    "!cd /content/drive/MyDrive/sitka_harness/sitka_salmon; git stash; git pull"
   ]
  }
 ],
 "metadata": {
  "kernelspec": {
   "display_name": "Python 3 (ipykernel)",
   "language": "python",
   "name": "python3"
  },
  "language_info": {
   "codemirror_mode": {
    "name": "ipython",
    "version": 3
   },
   "file_extension": ".py",
   "mimetype": "text/x-python",
   "name": "python",
   "nbconvert_exporter": "python",
   "pygments_lexer": "ipython3",
   "version": "3.8.13"
  }
 },
 "nbformat": 4,
 "nbformat_minor": 5
}
