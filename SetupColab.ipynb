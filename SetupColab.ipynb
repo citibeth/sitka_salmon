{
 "cells": [
  {
   "cell_type": "markdown",
   "id": "50c0a2ae",
   "metadata": {},
   "source": [
    "# Setting up for Sitka Salmon Project\n",
    "\n",
    "This notebook helps you set up your Google Colab environment to use the Sitka Salmon code and notebooks.  See here for more documentation: https://docs.google.com/document/d/1Tkyv02KSmc91ZcNqsUUmeuBzp-LjQsJU5lQf-rOel30\n",
    "\n",
    "## 1. Initialize this Notebook\n",
    "\n",
    "This cell just needs to be run once."
   ]
  },
  {
   "cell_type": "code",
   "execution_count": null,
   "id": "19eee91e",
   "metadata": {},
   "outputs": [],
   "source": [
    "import os\n",
    "import google.colab\n",
    "google.colab.drive.mount(\"/content/drive\")"
   ]
  },
  {
   "cell_type": "markdown",
   "id": "f03ed7d6",
   "metadata": {},
   "source": [
    "## 2. Clone the GitHub Repositories\n",
    "\n",
    "This step copies the code needed for this project that is NOT part of the notebooks.  If you've already run it, you do not need to run again (see step below, \"Fetch Updated Code\")"
   ]
  },
  {
   "cell_type": "code",
   "execution_count": null,
   "id": "cd6b5621",
   "metadata": {},
   "outputs": [],
   "source": [
    "!cd /content/drive/MyDrive; mkdir -p git; cd git; git clone https://github.com/citibeth/sitka_salmon.git\n",
    "!cd /content/drive/MyDrive; mkdir -p git; cd git; git clone https://github.com/pism/uafgi.git  -b sitka_salmon"
   ]
  },
  {
   "cell_type": "markdown",
   "id": "909d7b6e",
   "metadata": {},
   "source": [
    "## 3. Launch the Notebook\n",
    "\n",
    "Now follow these instructions to begin analyzing salmon data:\n",
    "\n",
    "1. Navigate to: https://drive.google.com\n",
    "\n",
    "1. Navigate to `git/sitka_salmon` on your Google Drive.\n",
    "\n",
    "1. Double-click on `AnalyzeSalmon.ipynb`\n",
    "\n"
   ]
  },
  {
   "cell_type": "markdown",
   "id": "9332162c",
   "metadata": {},
   "source": [
    "# Code Management Tools\n",
    "\n",
    "Keep this notebook open in case you need to reload / update your git project.\n",
    "\n",
    "## 4. Fetch Updated Code\n",
    "\n",
    "If the code in the GitHub repositorie(s) has changed, run this to get the latest version."
   ]
  },
  {
   "cell_type": "code",
   "execution_count": null,
   "id": "b722e8c5",
   "metadata": {},
   "outputs": [],
   "source": [
    "!cd /content/drive/MyDrive/git/uafgi; git pull\n",
    "!cd /content/drive/MyDrive/git/sitka_salmon; git pull"
   ]
  }
 ],
 "metadata": {
  "kernelspec": {
   "display_name": "Python 3 (ipykernel)",
   "language": "python",
   "name": "python3"
  },
  "language_info": {
   "codemirror_mode": {
    "name": "ipython",
    "version": 3
   },
   "file_extension": ".py",
   "mimetype": "text/x-python",
   "name": "python",
   "nbconvert_exporter": "python",
   "pygments_lexer": "ipython3",
   "version": "3.8.13"
  }
 },
 "nbformat": 4,
 "nbformat_minor": 5
}
