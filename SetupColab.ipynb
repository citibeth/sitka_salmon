{
 "cells": [
  {
   "cell_type": "markdown",
   "id": "abfc9fb3",
   "metadata": {},
   "source": [
    "## Setting up for Sitka Salmon Project\n"
   ]
  },
  {
   "cell_type": "code",
   "execution_count": null,
   "id": "bcaf8de5",
   "metadata": {},
   "outputs": [],
   "source": [
    "import os\n",
    "import google.colab\n",
    "google.colab.drive.mount(\"/content/drive\")\n",
    "!cd /content/drive/MyDrive; mkdir -p git; cd git; git clone https://github.com/citibeth/sitka_salmon.git\n",
    "!cd /content/drive/MyDrive; mkdir -p git; cd git; git clone https://github.com/pism/uafgi.git"
   ]
  }
 ],
 "metadata": {
  "kernelspec": {
   "display_name": "Python 3 (ipykernel)",
   "language": "python",
   "name": "python3"
  },
  "language_info": {
   "codemirror_mode": {
    "name": "ipython",
    "version": 3
   },
   "file_extension": ".py",
   "mimetype": "text/x-python",
   "name": "python",
   "nbconvert_exporter": "python",
   "pygments_lexer": "ipython3",
   "version": "3.8.13"
  }
 },
 "nbformat": 4,
 "nbformat_minor": 5
}
